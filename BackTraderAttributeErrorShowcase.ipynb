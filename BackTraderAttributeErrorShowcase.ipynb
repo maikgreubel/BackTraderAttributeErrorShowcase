{
 "cells": [
  {
   "cell_type": "code",
   "execution_count": 1,
   "id": "de4fb118-95ca-49b3-91ae-a88cdc899816",
   "metadata": {},
   "outputs": [],
   "source": [
    "# import the needed libs and stuff\n",
    "import yfinance as yf\n",
    "import backtrader as bt"
   ]
  },
  {
   "cell_type": "code",
   "execution_count": 2,
   "id": "73e2594e-bec0-445a-91c1-2330c9e6831f",
   "metadata": {},
   "outputs": [
    {
     "name": "stdout",
     "output_type": "stream",
     "text": [
      "1.9.78.123\n"
     ]
    }
   ],
   "source": [
    "print(bt.__version__)"
   ]
  },
  {
   "cell_type": "code",
   "execution_count": 3,
   "id": "fff461fd-4375-4f7a-9c78-f6359b4a0f3e",
   "metadata": {},
   "outputs": [
    {
     "name": "stdout",
     "output_type": "stream",
     "text": [
      "0.2.48\n"
     ]
    }
   ],
   "source": [
    "print(yf.__version__)"
   ]
  },
  {
   "cell_type": "code",
   "execution_count": 4,
   "id": "b44d1327-fcca-41a9-a833-b01faefa81cd",
   "metadata": {},
   "outputs": [],
   "source": [
    "# The strategy for cerebro\n",
    "class EventDrivenStrategy(bt.Strategy):\n",
    "    params = (('period', 14), ('threshold', 0.5))\n",
    "\n",
    "    def __init__(self):\n",
    "        self.s = bt.ind.SMA(period=self.params.period)\n",
    "        self.rsi = bt.ind.RSI(self.s, period=14)\n",
    "\n",
    "    def next(self):\n",
    "        if self.rsi < self.params.threshold:\n",
    "            # Kauf\n",
    "            print('Kauf')\n",
    "        elif self.rsi > 1 - self.params.threshold:\n",
    "            # Verkauf\n",
    "            print('Verkauf')"
   ]
  },
  {
   "cell_type": "code",
   "execution_count": 5,
   "id": "58f9d016-4de5-4c1d-8f47-a6136610a850",
   "metadata": {},
   "outputs": [],
   "source": [
    "# Create cerebro\n",
    "cerebro = bt.Cerebro()\n",
    "cerebro.addstrategy(EventDrivenStrategy)\n",
    "cerebro.broker.setcash(10000.0)"
   ]
  },
  {
   "cell_type": "code",
   "execution_count": 6,
   "id": "1b8177c9-cd7b-4c72-bf08-8db9316407ec",
   "metadata": {},
   "outputs": [
    {
     "name": "stderr",
     "output_type": "stream",
     "text": [
      "[*********************100%***********************]  1 of 1 completed\n"
     ]
    }
   ],
   "source": [
    "# Download a ticker\n",
    "data = yf.download('GOOG', period='1y', start='2021-06-30')"
   ]
  },
  {
   "cell_type": "code",
   "execution_count": 7,
   "id": "ac4270f4-0a57-4209-8f96-2f480d04ffa5",
   "metadata": {},
   "outputs": [
    {
     "name": "stdout",
     "output_type": "stream",
     "text": [
      "MultiIndex([('Adj Close', 'GOOG'),\n",
      "            (    'Close', 'GOOG'),\n",
      "            (     'High', 'GOOG'),\n",
      "            (      'Low', 'GOOG'),\n",
      "            (     'Open', 'GOOG'),\n",
      "            (   'Volume', 'GOOG')],\n",
      "           names=['Price', 'Ticker'])\n"
     ]
    }
   ],
   "source": [
    "# Show the brief of downloaded ticker\n",
    "print(data.columns)"
   ]
  },
  {
   "cell_type": "code",
   "execution_count": 8,
   "id": "b59f5f99-7b31-4a7d-9894-ace5b20df752",
   "metadata": {},
   "outputs": [
    {
     "ename": "AttributeError",
     "evalue": "'tuple' object has no attribute 'lower'",
     "output_type": "error",
     "traceback": [
      "\u001b[0;31m---------------------------------------------------------------------------\u001b[0m",
      "\u001b[0;31mAttributeError\u001b[0m                            Traceback (most recent call last)",
      "Cell \u001b[0;32mIn[8], line 5\u001b[0m\n\u001b[1;32m      3\u001b[0m \u001b[38;5;66;03m# Execute cerebro\u001b[39;00m\n\u001b[1;32m      4\u001b[0m cerebro\u001b[38;5;241m.\u001b[39madddata(df)\n\u001b[0;32m----> 5\u001b[0m \u001b[43mcerebro\u001b[49m\u001b[38;5;241;43m.\u001b[39;49m\u001b[43mrun\u001b[49m\u001b[43m(\u001b[49m\u001b[43m)\u001b[49m\n",
      "File \u001b[0;32m/opt/conda/lib/python3.11/site-packages/backtrader/cerebro.py:1132\u001b[0m, in \u001b[0;36mCerebro.run\u001b[0;34m(self, **kwargs)\u001b[0m\n\u001b[1;32m   1128\u001b[0m \u001b[38;5;28;01mif\u001b[39;00m \u001b[38;5;129;01mnot\u001b[39;00m \u001b[38;5;28mself\u001b[39m\u001b[38;5;241m.\u001b[39m_dooptimize \u001b[38;5;129;01mor\u001b[39;00m \u001b[38;5;28mself\u001b[39m\u001b[38;5;241m.\u001b[39mp\u001b[38;5;241m.\u001b[39mmaxcpus \u001b[38;5;241m==\u001b[39m \u001b[38;5;241m1\u001b[39m:\n\u001b[1;32m   1129\u001b[0m     \u001b[38;5;66;03m# If no optimmization is wished ... or 1 core is to be used\u001b[39;00m\n\u001b[1;32m   1130\u001b[0m     \u001b[38;5;66;03m# let's skip process \"spawning\"\u001b[39;00m\n\u001b[1;32m   1131\u001b[0m     \u001b[38;5;28;01mfor\u001b[39;00m iterstrat \u001b[38;5;129;01min\u001b[39;00m iterstrats:\n\u001b[0;32m-> 1132\u001b[0m         runstrat \u001b[38;5;241m=\u001b[39m \u001b[38;5;28;43mself\u001b[39;49m\u001b[38;5;241;43m.\u001b[39;49m\u001b[43mrunstrategies\u001b[49m\u001b[43m(\u001b[49m\u001b[43miterstrat\u001b[49m\u001b[43m)\u001b[49m\n\u001b[1;32m   1133\u001b[0m         \u001b[38;5;28mself\u001b[39m\u001b[38;5;241m.\u001b[39mrunstrats\u001b[38;5;241m.\u001b[39mappend(runstrat)\n\u001b[1;32m   1134\u001b[0m         \u001b[38;5;28;01mif\u001b[39;00m \u001b[38;5;28mself\u001b[39m\u001b[38;5;241m.\u001b[39m_dooptimize:\n",
      "File \u001b[0;32m/opt/conda/lib/python3.11/site-packages/backtrader/cerebro.py:1215\u001b[0m, in \u001b[0;36mCerebro.runstrategies\u001b[0;34m(self, iterstrat, predata)\u001b[0m\n\u001b[1;32m   1213\u001b[0m \u001b[38;5;28;01mif\u001b[39;00m \u001b[38;5;28mself\u001b[39m\u001b[38;5;241m.\u001b[39m_exactbars \u001b[38;5;241m<\u001b[39m \u001b[38;5;241m1\u001b[39m:  \u001b[38;5;66;03m# datas can be full length\u001b[39;00m\n\u001b[1;32m   1214\u001b[0m     data\u001b[38;5;241m.\u001b[39mextend(size\u001b[38;5;241m=\u001b[39m\u001b[38;5;28mself\u001b[39m\u001b[38;5;241m.\u001b[39mparams\u001b[38;5;241m.\u001b[39mlookahead)\n\u001b[0;32m-> 1215\u001b[0m \u001b[43mdata\u001b[49m\u001b[38;5;241;43m.\u001b[39;49m\u001b[43m_start\u001b[49m\u001b[43m(\u001b[49m\u001b[43m)\u001b[49m\n\u001b[1;32m   1216\u001b[0m \u001b[38;5;28;01mif\u001b[39;00m \u001b[38;5;28mself\u001b[39m\u001b[38;5;241m.\u001b[39m_dopreload:\n\u001b[1;32m   1217\u001b[0m     data\u001b[38;5;241m.\u001b[39mpreload()\n",
      "File \u001b[0;32m/opt/conda/lib/python3.11/site-packages/backtrader/feed.py:203\u001b[0m, in \u001b[0;36mAbstractDataBase._start\u001b[0;34m(self)\u001b[0m\n\u001b[1;32m    202\u001b[0m \u001b[38;5;28;01mdef\u001b[39;00m \u001b[38;5;21m_start\u001b[39m(\u001b[38;5;28mself\u001b[39m):\n\u001b[0;32m--> 203\u001b[0m     \u001b[38;5;28;43mself\u001b[39;49m\u001b[38;5;241;43m.\u001b[39;49m\u001b[43mstart\u001b[49m\u001b[43m(\u001b[49m\u001b[43m)\u001b[49m\n\u001b[1;32m    205\u001b[0m     \u001b[38;5;28;01mif\u001b[39;00m \u001b[38;5;129;01mnot\u001b[39;00m \u001b[38;5;28mself\u001b[39m\u001b[38;5;241m.\u001b[39m_started:\n\u001b[1;32m    206\u001b[0m         \u001b[38;5;28mself\u001b[39m\u001b[38;5;241m.\u001b[39m_start_finish()\n",
      "File \u001b[0;32m/opt/conda/lib/python3.11/site-packages/backtrader/feeds/pandafeed.py:212\u001b[0m, in \u001b[0;36mPandasData.start\u001b[0;34m(self)\u001b[0m\n\u001b[1;32m    210\u001b[0m \u001b[38;5;66;03m# Transform names (valid for .ix) into indices (good for .iloc)\u001b[39;00m\n\u001b[1;32m    211\u001b[0m \u001b[38;5;28;01mif\u001b[39;00m \u001b[38;5;28mself\u001b[39m\u001b[38;5;241m.\u001b[39mp\u001b[38;5;241m.\u001b[39mnocase:\n\u001b[0;32m--> 212\u001b[0m     colnames \u001b[38;5;241m=\u001b[39m \u001b[43m[\u001b[49m\u001b[43mx\u001b[49m\u001b[38;5;241;43m.\u001b[39;49m\u001b[43mlower\u001b[49m\u001b[43m(\u001b[49m\u001b[43m)\u001b[49m\u001b[43m \u001b[49m\u001b[38;5;28;43;01mfor\u001b[39;49;00m\u001b[43m \u001b[49m\u001b[43mx\u001b[49m\u001b[43m \u001b[49m\u001b[38;5;129;43;01min\u001b[39;49;00m\u001b[43m \u001b[49m\u001b[38;5;28;43mself\u001b[39;49m\u001b[38;5;241;43m.\u001b[39;49m\u001b[43mp\u001b[49m\u001b[38;5;241;43m.\u001b[39;49m\u001b[43mdataname\u001b[49m\u001b[38;5;241;43m.\u001b[39;49m\u001b[43mcolumns\u001b[49m\u001b[38;5;241;43m.\u001b[39;49m\u001b[43mvalues\u001b[49m\u001b[43m]\u001b[49m\n\u001b[1;32m    213\u001b[0m \u001b[38;5;28;01melse\u001b[39;00m:\n\u001b[1;32m    214\u001b[0m     colnames \u001b[38;5;241m=\u001b[39m [x \u001b[38;5;28;01mfor\u001b[39;00m x \u001b[38;5;129;01min\u001b[39;00m \u001b[38;5;28mself\u001b[39m\u001b[38;5;241m.\u001b[39mp\u001b[38;5;241m.\u001b[39mdataname\u001b[38;5;241m.\u001b[39mcolumns\u001b[38;5;241m.\u001b[39mvalues]\n",
      "File \u001b[0;32m/opt/conda/lib/python3.11/site-packages/backtrader/feeds/pandafeed.py:212\u001b[0m, in \u001b[0;36m<listcomp>\u001b[0;34m(.0)\u001b[0m\n\u001b[1;32m    210\u001b[0m \u001b[38;5;66;03m# Transform names (valid for .ix) into indices (good for .iloc)\u001b[39;00m\n\u001b[1;32m    211\u001b[0m \u001b[38;5;28;01mif\u001b[39;00m \u001b[38;5;28mself\u001b[39m\u001b[38;5;241m.\u001b[39mp\u001b[38;5;241m.\u001b[39mnocase:\n\u001b[0;32m--> 212\u001b[0m     colnames \u001b[38;5;241m=\u001b[39m [\u001b[43mx\u001b[49m\u001b[38;5;241;43m.\u001b[39;49m\u001b[43mlower\u001b[49m() \u001b[38;5;28;01mfor\u001b[39;00m x \u001b[38;5;129;01min\u001b[39;00m \u001b[38;5;28mself\u001b[39m\u001b[38;5;241m.\u001b[39mp\u001b[38;5;241m.\u001b[39mdataname\u001b[38;5;241m.\u001b[39mcolumns\u001b[38;5;241m.\u001b[39mvalues]\n\u001b[1;32m    213\u001b[0m \u001b[38;5;28;01melse\u001b[39;00m:\n\u001b[1;32m    214\u001b[0m     colnames \u001b[38;5;241m=\u001b[39m [x \u001b[38;5;28;01mfor\u001b[39;00m x \u001b[38;5;129;01min\u001b[39;00m \u001b[38;5;28mself\u001b[39m\u001b[38;5;241m.\u001b[39mp\u001b[38;5;241m.\u001b[39mdataname\u001b[38;5;241m.\u001b[39mcolumns\u001b[38;5;241m.\u001b[39mvalues]\n",
      "\u001b[0;31mAttributeError\u001b[0m: 'tuple' object has no attribute 'lower'"
     ]
    }
   ],
   "source": [
    "# Test 1 - Simple create a PandasData object out of ticker\n",
    "df = bt.feeds.PandasData(dataname=data)\n",
    "# Execute cerebro\n",
    "cerebro.adddata(df)\n",
    "cerebro.run()"
   ]
  },
  {
   "cell_type": "code",
   "execution_count": 9,
   "id": "045e27f3-472c-416e-86df-877898487d67",
   "metadata": {},
   "outputs": [
    {
     "ename": "AttributeError",
     "evalue": "'Index' object has no attribute 'columns'",
     "output_type": "error",
     "traceback": [
      "\u001b[0;31m---------------------------------------------------------------------------\u001b[0m",
      "\u001b[0;31mAttributeError\u001b[0m                            Traceback (most recent call last)",
      "Cell \u001b[0;32mIn[9], line 4\u001b[0m\n\u001b[1;32m      2\u001b[0m data \u001b[38;5;241m=\u001b[39m data\u001b[38;5;241m.\u001b[39mcolumns\u001b[38;5;241m.\u001b[39mdroplevel(\u001b[38;5;241m1\u001b[39m)\n\u001b[1;32m      3\u001b[0m \u001b[38;5;66;03m# And create a PandasData frame out of the level dropped ticker data\u001b[39;00m\n\u001b[0;32m----> 4\u001b[0m df \u001b[38;5;241m=\u001b[39m \u001b[43mbt\u001b[49m\u001b[38;5;241;43m.\u001b[39;49m\u001b[43mfeeds\u001b[49m\u001b[38;5;241;43m.\u001b[39;49m\u001b[43mPandasData\u001b[49m\u001b[43m(\u001b[49m\u001b[43mdataname\u001b[49m\u001b[38;5;241;43m=\u001b[39;49m\u001b[43mdata\u001b[49m\u001b[43m)\u001b[49m\n\u001b[1;32m      5\u001b[0m \u001b[38;5;66;03m# Execute cerebro\u001b[39;00m\n\u001b[1;32m      6\u001b[0m cerebro\u001b[38;5;241m.\u001b[39madddata(df)\n",
      "File \u001b[0;32m/opt/conda/lib/python3.11/site-packages/backtrader/metabase.py:88\u001b[0m, in \u001b[0;36mMetaBase.__call__\u001b[0;34m(cls, *args, **kwargs)\u001b[0m\n\u001b[1;32m     86\u001b[0m _obj, args, kwargs \u001b[38;5;241m=\u001b[39m \u001b[38;5;28mcls\u001b[39m\u001b[38;5;241m.\u001b[39mdonew(\u001b[38;5;241m*\u001b[39margs, \u001b[38;5;241m*\u001b[39m\u001b[38;5;241m*\u001b[39mkwargs)\n\u001b[1;32m     87\u001b[0m _obj, args, kwargs \u001b[38;5;241m=\u001b[39m \u001b[38;5;28mcls\u001b[39m\u001b[38;5;241m.\u001b[39mdopreinit(_obj, \u001b[38;5;241m*\u001b[39margs, \u001b[38;5;241m*\u001b[39m\u001b[38;5;241m*\u001b[39mkwargs)\n\u001b[0;32m---> 88\u001b[0m _obj, args, kwargs \u001b[38;5;241m=\u001b[39m \u001b[38;5;28;43mcls\u001b[39;49m\u001b[38;5;241;43m.\u001b[39;49m\u001b[43mdoinit\u001b[49m\u001b[43m(\u001b[49m\u001b[43m_obj\u001b[49m\u001b[43m,\u001b[49m\u001b[43m \u001b[49m\u001b[38;5;241;43m*\u001b[39;49m\u001b[43margs\u001b[49m\u001b[43m,\u001b[49m\u001b[43m \u001b[49m\u001b[38;5;241;43m*\u001b[39;49m\u001b[38;5;241;43m*\u001b[39;49m\u001b[43mkwargs\u001b[49m\u001b[43m)\u001b[49m\n\u001b[1;32m     89\u001b[0m _obj, args, kwargs \u001b[38;5;241m=\u001b[39m \u001b[38;5;28mcls\u001b[39m\u001b[38;5;241m.\u001b[39mdopostinit(_obj, \u001b[38;5;241m*\u001b[39margs, \u001b[38;5;241m*\u001b[39m\u001b[38;5;241m*\u001b[39mkwargs)\n\u001b[1;32m     90\u001b[0m \u001b[38;5;28;01mreturn\u001b[39;00m _obj\n",
      "File \u001b[0;32m/opt/conda/lib/python3.11/site-packages/backtrader/metabase.py:78\u001b[0m, in \u001b[0;36mMetaBase.doinit\u001b[0;34m(cls, _obj, *args, **kwargs)\u001b[0m\n\u001b[1;32m     77\u001b[0m \u001b[38;5;28;01mdef\u001b[39;00m \u001b[38;5;21mdoinit\u001b[39m(\u001b[38;5;28mcls\u001b[39m, _obj, \u001b[38;5;241m*\u001b[39margs, \u001b[38;5;241m*\u001b[39m\u001b[38;5;241m*\u001b[39mkwargs):\n\u001b[0;32m---> 78\u001b[0m     \u001b[43m_obj\u001b[49m\u001b[38;5;241;43m.\u001b[39;49m\u001b[38;5;21;43m__init__\u001b[39;49m\u001b[43m(\u001b[49m\u001b[38;5;241;43m*\u001b[39;49m\u001b[43margs\u001b[49m\u001b[43m,\u001b[49m\u001b[43m \u001b[49m\u001b[38;5;241;43m*\u001b[39;49m\u001b[38;5;241;43m*\u001b[39;49m\u001b[43mkwargs\u001b[49m\u001b[43m)\u001b[49m\n\u001b[1;32m     79\u001b[0m     \u001b[38;5;28;01mreturn\u001b[39;00m _obj, args, kwargs\n",
      "File \u001b[0;32m/opt/conda/lib/python3.11/site-packages/backtrader/feeds/pandafeed.py:167\u001b[0m, in \u001b[0;36mPandasData.__init__\u001b[0;34m(self)\u001b[0m\n\u001b[1;32m    164\u001b[0m \u001b[38;5;28msuper\u001b[39m(PandasData, \u001b[38;5;28mself\u001b[39m)\u001b[38;5;241m.\u001b[39m\u001b[38;5;21m__init__\u001b[39m()\n\u001b[1;32m    166\u001b[0m \u001b[38;5;66;03m# these \"colnames\" can be strings or numeric types\u001b[39;00m\n\u001b[0;32m--> 167\u001b[0m colnames \u001b[38;5;241m=\u001b[39m \u001b[38;5;28mlist\u001b[39m(\u001b[38;5;28;43mself\u001b[39;49m\u001b[38;5;241;43m.\u001b[39;49m\u001b[43mp\u001b[49m\u001b[38;5;241;43m.\u001b[39;49m\u001b[43mdataname\u001b[49m\u001b[38;5;241;43m.\u001b[39;49m\u001b[43mcolumns\u001b[49m\u001b[38;5;241m.\u001b[39mvalues)\n\u001b[1;32m    168\u001b[0m \u001b[38;5;28;01mif\u001b[39;00m \u001b[38;5;28mself\u001b[39m\u001b[38;5;241m.\u001b[39mp\u001b[38;5;241m.\u001b[39mdatetime \u001b[38;5;129;01mis\u001b[39;00m \u001b[38;5;28;01mNone\u001b[39;00m:\n\u001b[1;32m    169\u001b[0m     \u001b[38;5;66;03m# datetime is expected as index col and hence not returned\u001b[39;00m\n\u001b[1;32m    170\u001b[0m     \u001b[38;5;28;01mpass\u001b[39;00m\n",
      "\u001b[0;31mAttributeError\u001b[0m: 'Index' object has no attribute 'columns'"
     ]
    }
   ],
   "source": [
    "# Test 2 - Recommended by https://stackoverflow.com/a/79134506/3970623 to prevent a AttributeError: 'tuple' object has no attribute 'lower'\n",
    "data = data.columns.droplevel(1)\n",
    "# And create a PandasData frame out of the level dropped ticker data\n",
    "df = bt.feeds.PandasData(dataname=data)\n",
    "# Execute cerebro\n",
    "cerebro.adddata(df)\n",
    "cerebro.run()"
   ]
  },
  {
   "cell_type": "code",
   "execution_count": null,
   "id": "ae4d0c0f-2502-4909-b97c-48a61b12a9e7",
   "metadata": {},
   "outputs": [],
   "source": []
  },
  {
   "cell_type": "code",
   "execution_count": null,
   "id": "c2c64e14-62b4-4d9a-950b-bc4c96beb5b6",
   "metadata": {},
   "outputs": [],
   "source": []
  },
  {
   "cell_type": "code",
   "execution_count": null,
   "id": "b8168b21-b5e1-4877-80b1-2e3cd4212c04",
   "metadata": {},
   "outputs": [],
   "source": []
  }
 ],
 "metadata": {
  "kernelspec": {
   "display_name": "Python 3 (ipykernel)",
   "language": "python",
   "name": "python3"
  },
  "language_info": {
   "codemirror_mode": {
    "name": "ipython",
    "version": 3
   },
   "file_extension": ".py",
   "mimetype": "text/x-python",
   "name": "python",
   "nbconvert_exporter": "python",
   "pygments_lexer": "ipython3",
   "version": "3.11.6"
  }
 },
 "nbformat": 4,
 "nbformat_minor": 5
}
